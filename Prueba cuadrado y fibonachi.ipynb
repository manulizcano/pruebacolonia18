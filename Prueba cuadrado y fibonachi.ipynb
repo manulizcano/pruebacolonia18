{
 "cells": [
  {
   "cell_type": "code",
   "execution_count": 1,
   "metadata": {},
   "outputs": [
    {
     "name": "stdout",
     "output_type": "stream",
     "text": [
      "[1, 1, 1, 1, 1, 1, 1, 1]\n",
      "[1, 1, 0, 0, 0, 0, 1, 1]\n",
      "[1, 0, 1, 0, 0, 1, 0, 1]\n",
      "[1, 0, 0, 1, 1, 0, 0, 1]\n",
      "[1, 0, 0, 1, 1, 0, 0, 1]\n",
      "[1, 0, 1, 0, 0, 1, 0, 1]\n",
      "[1, 1, 0, 0, 0, 0, 1, 1]\n",
      "[1, 1, 1, 1, 1, 1, 1, 1]\n"
     ]
    }
   ],
   "source": [
    "def cuadrado(n):\n",
    "    lista = []\n",
    "    for i in range(n):\n",
    "        sublista = []\n",
    "        for i in range(n):\n",
    "            sublista.append(0)\n",
    "        lista.append(sublista)\n",
    "    \n",
    "    for i in range(n):\n",
    "        lista[i][0]=1 \n",
    "        lista[i][n-1]=1 \n",
    "        lista[0][i]=1\n",
    "        lista[n-1][i]=1\n",
    "        lista[i][i]=1\n",
    "        lista[n-1-i][i]=1\n",
    "    for i in range(n):\n",
    "        print(lista[i]) \n",
    "    \n",
    "cuadrado(8)"
   ]
  },
  {
   "cell_type": "code",
   "execution_count": 2,
   "metadata": {},
   "outputs": [
    {
     "name": "stdout",
     "output_type": "stream",
     "text": [
      "[1, 1, 2, 3, 5, 8, 13, 21, 34, 55, 89, 144]\n"
     ]
    },
    {
     "data": {
      "text/plain": [
       "[1, 1, 2, 3, 5, 8, 13, 21, 34, 55, 89, 144]"
      ]
     },
     "execution_count": 2,
     "metadata": {},
     "output_type": "execute_result"
    }
   ],
   "source": [
    "def listafibonachi(n):\n",
    "    secuencia= [1,1]\n",
    "    for i in range(n):\n",
    "        x= secuencia[i]+secuencia[i+1]\n",
    "        secuencia.append(x)\n",
    "    print(secuencia)\n",
    "    return(secuencia)\n",
    "\n",
    "\n",
    "listafibonachi(10)"
   ]
  },
  {
   "cell_type": "code",
   "execution_count": 3,
   "metadata": {},
   "outputs": [
    {
     "name": "stdout",
     "output_type": "stream",
     "text": [
      "[1, 1, 2, 3, 5, 8, 13, 21, 34, 55, 89, 144]\n",
      "144\n"
     ]
    }
   ],
   "source": [
    "def n_esimo_numero_de_fibonachi(n):\n",
    "    print((listafibonachi(n))[n+1])\n",
    "\n",
    "n_esimo_numero_de_fibonachi(10)"
   ]
  }
 ],
 "metadata": {
  "kernelspec": {
   "display_name": "Python 3",
   "language": "python",
   "name": "python3"
  },
  "language_info": {
   "codemirror_mode": {
    "name": "ipython",
    "version": 3
   },
   "file_extension": ".py",
   "mimetype": "text/x-python",
   "name": "python",
   "nbconvert_exporter": "python",
   "pygments_lexer": "ipython3",
   "version": "3.7.6"
  }
 },
 "nbformat": 4,
 "nbformat_minor": 4
}
